{
 "cells": [
  {
   "cell_type": "markdown",
   "metadata": {},
   "source": [
    "# Notebook to help figure out optimal column types\n",
    "Choose column types from:\n",
    "* https://numpy.org/devdocs/user/basics.types.html\n",
    "* https://numpy.org/devdocs/reference/arrays.datetime.html"
   ]
  },
  {
   "cell_type": "code",
   "execution_count": 1,
   "metadata": {},
   "outputs": [],
   "source": [
    "import numpy as np\n",
    "import pandas as pd"
   ]
  },
  {
   "cell_type": "code",
   "execution_count": 2,
   "metadata": {},
   "outputs": [],
   "source": [
    "def reduce_mem_usage(df, verbose=True):\n",
    "    \"\"\"\n",
    "    Takes an dataframe as argument and adjusts the datatypes of the respective\n",
    "    columns to reduce memory allocation\n",
    "    \"\"\"\n",
    "    numerics = ['int16', 'int32', 'int64', 'float16', 'float32', 'float64']\n",
    "    start_mem = df.memory_usage().sum() / 1024 ** 2\n",
    "    for col in df.columns:\n",
    "        col_type = df[col].dtypes\n",
    "        if col_type in numerics:\n",
    "            c_min = df[col].min()\n",
    "            c_max = df[col].max()\n",
    "            if str(col_type)[:3] == 'int':\n",
    "                if (c_min > np.iinfo(np.int8).min and\n",
    "                        c_max < np.iinfo(np.int8).max):\n",
    "                    df[col] = df[col].astype(np.int8)\n",
    "                elif (c_min > np.iinfo(np.int16).min and\n",
    "                      c_max < np.iinfo(np.int16).max):\n",
    "                    df[col] = df[col].astype(np.int16)\n",
    "                elif (c_min > np.iinfo(np.int32).min and\n",
    "                      c_max < np.iinfo(np.int32).max):\n",
    "                    df[col] = df[col].astype(np.int32)\n",
    "                elif (c_min > np.iinfo(np.int64).min and\n",
    "                      c_max < np.iinfo(np.int64).max):\n",
    "                    df[col] = df[col].astype(np.int64)\n",
    "            else:\n",
    "                if (c_min > np.finfo(np.float16).min and\n",
    "                        c_max < np.finfo(np.float16).max):\n",
    "                    df[col] = df[col].astype(np.float16)\n",
    "                elif (c_min > np.finfo(np.float32).min and\n",
    "                      c_max < np.finfo(np.float32).max):\n",
    "                    df[col] = df[col].astype(np.float32)\n",
    "                else:\n",
    "                    df[col] = df[col].astype(np.float64)\n",
    "    end_mem = df.memory_usage().sum() / 1024 ** 2\n",
    "    reduced_mem = 100 * (start_mem - end_mem) / start_mem\n",
    "    if verbose:\n",
    "        print('Mem. usage decreased to {:5.2f} Mb ({:.1f}% reduction)'\n",
    "              .format(end_mem, reduced_mem))\n",
    "    return df"
   ]
  },
  {
   "cell_type": "code",
   "execution_count": 3,
   "metadata": {},
   "outputs": [],
   "source": [
    "def print_min_max_column(df, column):\n",
    "    print(column, \"min:\", df[column].min(), \"max:\", df[column].max())\n",
    "    \n",
    "def print_min_max(df):\n",
    "    for column in df.columns:\n",
    "        print_min_max_column(df, column)"
   ]
  },
  {
   "cell_type": "code",
   "execution_count": 4,
   "metadata": {},
   "outputs": [],
   "source": [
    "data_dir = \"../data\""
   ]
  },
  {
   "cell_type": "code",
   "execution_count": 5,
   "metadata": {},
   "outputs": [
    {
     "name": "stdout",
     "output_type": "stream",
     "text": [
      "building_id min: 0 max: 1448\n",
      "meter min: 0 max: 3\n",
      "timestamp min: 2016-01-01 00:00:00 max: 2016-12-31 23:00:00\n",
      "meter_reading min: 0.0 max: 21904700.0\n",
      "Mem. usage decreased to 289.19 Mb (53.1% reduction)\n",
      "building_id        int16\n",
      "meter               int8\n",
      "timestamp         object\n",
      "meter_reading    float32\n",
      "dtype: object\n"
     ]
    }
   ],
   "source": [
    "train_df = pd.read_csv(data_dir + \"/raw/train.csv\")\n",
    "print_min_max(train_df)\n",
    "train_df = reduce_mem_usage(train_df)\n",
    "print(train_df.dtypes)"
   ]
  },
  {
   "cell_type": "code",
   "execution_count": 6,
   "metadata": {},
   "outputs": [
    {
     "name": "stdout",
     "output_type": "stream",
     "text": [
      "row_id min: 0 max: 41697599\n",
      "building_id min: 0 max: 1448\n",
      "meter min: 0 max: 3\n",
      "timestamp min: 2017-01-01 00:00:00 max: 2018-12-31 23:00:00\n",
      "Mem. usage decreased to 596.49 Mb (53.1% reduction)\n",
      "row_id          int32\n",
      "building_id     int16\n",
      "meter            int8\n",
      "timestamp      object\n",
      "dtype: object\n"
     ]
    }
   ],
   "source": [
    "test_df = pd.read_csv(data_dir + \"/raw/test.csv\")\n",
    "print_min_max(test_df)\n",
    "train_df = reduce_mem_usage(test_df)\n",
    "print(test_df.dtypes)"
   ]
  },
  {
   "cell_type": "code",
   "execution_count": 7,
   "metadata": {},
   "outputs": [
    {
     "name": "stdout",
     "output_type": "stream",
     "text": [
      "site_id min: 0 max: 15\n",
      "timestamp min: 2016-01-01 00:00:00 max: 2016-12-31 23:00:00\n",
      "air_temperature min: -28.9 max: 47.2\n",
      "cloud_coverage min: 0.0 max: 9.0\n",
      "dew_temperature min: -35.0 max: 26.1\n",
      "precip_depth_1_hr min: -1.0 max: 343.0\n",
      "sea_level_pressure min: 968.2 max: 1045.5\n",
      "wind_direction min: 0.0 max: 360.0\n",
      "wind_speed min: 0.0 max: 19.0\n",
      "Mem. usage decreased to  3.07 Mb (68.1% reduction)\n",
      "site_id                  int8\n",
      "timestamp              object\n",
      "air_temperature       float16\n",
      "cloud_coverage        float16\n",
      "dew_temperature       float16\n",
      "precip_depth_1_hr     float16\n",
      "sea_level_pressure    float16\n",
      "wind_direction        float16\n",
      "wind_speed            float16\n",
      "dtype: object\n"
     ]
    }
   ],
   "source": [
    "weather_train_df = pd.read_csv(data_dir + \"/raw/weather_train.csv\")\n",
    "print_min_max(weather_train_df)\n",
    "weather_train_df = reduce_mem_usage(weather_train_df)\n",
    "print(weather_train_df.dtypes)"
   ]
  },
  {
   "cell_type": "code",
   "execution_count": 8,
   "metadata": {},
   "outputs": [
    {
     "name": "stdout",
     "output_type": "stream",
     "text": [
      "site_id min: 0 max: 15\n",
      "timestamp min: 2017-01-01 00:00:00 max: 2018-12-31 23:00:00\n",
      "air_temperature min: -28.1 max: 48.3\n",
      "cloud_coverage min: 0.0 max: 9.0\n",
      "dew_temperature min: -31.6 max: 26.7\n",
      "precip_depth_1_hr min: -1.0 max: 597.0\n",
      "sea_level_pressure min: 972.0 max: 1050.1\n",
      "wind_direction min: 0.0 max: 360.0\n",
      "wind_speed min: 0.0 max: 24.2\n",
      "Mem. usage decreased to  6.08 Mb (68.1% reduction)\n",
      "site_id                  int8\n",
      "timestamp              object\n",
      "air_temperature       float16\n",
      "cloud_coverage        float16\n",
      "dew_temperature       float16\n",
      "precip_depth_1_hr     float16\n",
      "sea_level_pressure    float16\n",
      "wind_direction        float16\n",
      "wind_speed            float16\n",
      "dtype: object\n"
     ]
    }
   ],
   "source": [
    "weather_test_df = pd.read_csv(data_dir + \"/raw/weather_test.csv\")\n",
    "print_min_max(weather_test_df)\n",
    "weather_test_df = reduce_mem_usage(weather_test_df)\n",
    "print(weather_test_df.dtypes)"
   ]
  },
  {
   "cell_type": "code",
   "execution_count": 9,
   "metadata": {},
   "outputs": [
    {
     "name": "stdout",
     "output_type": "stream",
     "text": [
      "site_id min: 0 max: 15\n",
      "building_id min: 0 max: 1448\n",
      "primary_use min: Education max: Warehouse/storage\n",
      "square_feet min: 283 max: 875000\n",
      "year_built min: 1900.0 max: 2017.0\n",
      "floor_count min: 1.0 max: 26.0\n",
      "Mem. usage decreased to  0.03 Mb (60.3% reduction)\n",
      "site_id           int8\n",
      "building_id      int16\n",
      "primary_use     object\n",
      "square_feet      int32\n",
      "year_built     float16\n",
      "floor_count    float16\n",
      "dtype: object\n"
     ]
    }
   ],
   "source": [
    "building_metadata_df = pd.read_csv(data_dir + \"/raw/building_metadata.csv\")\n",
    "print_min_max(building_metadata_df)\n",
    "building_metadata_df = reduce_mem_usage(building_metadata_df)\n",
    "print(building_metadata_df.dtypes)"
   ]
  }
 ],
 "metadata": {
  "kernelspec": {
   "display_name": "Python 3",
   "language": "python",
   "name": "python3"
  },
  "language_info": {
   "codemirror_mode": {
    "name": "ipython",
    "version": 3
   },
   "file_extension": ".py",
   "mimetype": "text/x-python",
   "name": "python",
   "nbconvert_exporter": "python",
   "pygments_lexer": "ipython3",
   "version": "3.7.5"
  }
 },
 "nbformat": 4,
 "nbformat_minor": 2
}
